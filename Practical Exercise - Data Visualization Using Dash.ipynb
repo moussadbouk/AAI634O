{
 "cells": [
  {
   "cell_type": "markdown",
   "id": "f7d7c26a",
   "metadata": {},
   "source": [
    "**Step 1: Import Libraries**"
   ]
  },
  {
   "cell_type": "code",
   "execution_count": 102,
   "id": "f0ad421f",
   "metadata": {},
   "outputs": [],
   "source": [
    "import pandas as pd\n",
    "import dash\n",
    "from dash import dcc, html\n",
    "from dash.dependencies import Input, Output\n",
    "import plotly.express as px"
   ]
  },
  {
   "cell_type": "markdown",
   "id": "eb548be8",
   "metadata": {},
   "source": [
    "**Step 2: Set Up the Dash Application**"
   ]
  },
  {
   "cell_type": "code",
   "execution_count": 103,
   "id": "225e7b13",
   "metadata": {},
   "outputs": [],
   "source": [
    "# Initialize the Dash app\n",
    "app = dash.Dash(__name__)"
   ]
  },
  {
   "cell_type": "markdown",
   "id": "4bedabbd",
   "metadata": {},
   "source": [
    "**Step 3: Load the data**"
   ]
  },
  {
   "cell_type": "code",
   "execution_count": 104,
   "id": "64b49263",
   "metadata": {},
   "outputs": [
    {
     "name": "stdout",
     "output_type": "stream",
     "text": [
      "   PassengerId  Survived  Pclass  \\\n",
      "0            1         0       3   \n",
      "1            2         1       1   \n",
      "2            3         1       3   \n",
      "3            4         1       1   \n",
      "4            5         0       3   \n",
      "\n",
      "                                                Name     Sex   Age  SibSp  \\\n",
      "0                            Braund, Mr. Owen Harris    male  22.0      1   \n",
      "1  Cumings, Mrs. John Bradley (Florence Briggs Th...  female  38.0      1   \n",
      "2                             Heikkinen, Miss. Laina  female  26.0      0   \n",
      "3       Futrelle, Mrs. Jacques Heath (Lily May Peel)  female  35.0      1   \n",
      "4                           Allen, Mr. William Henry    male  35.0      0   \n",
      "\n",
      "   Parch            Ticket     Fare Cabin Embarked  \n",
      "0      0         A/5 21171   7.2500   NaN        S  \n",
      "1      0          PC 17599  71.2833   C85        C  \n",
      "2      0  STON/O2. 3101282   7.9250   NaN        S  \n",
      "3      0            113803  53.1000  C123        S  \n",
      "4      0            373450   8.0500   NaN        S  \n"
     ]
    }
   ],
   "source": [
    "df = pd.read_csv('titanic.csv')\n",
    "print(df.head())"
   ]
  },
  {
   "cell_type": "markdown",
   "id": "df167960",
   "metadata": {},
   "source": [
    "**Step 4: Prepare Data**"
   ]
  },
  {
   "cell_type": "code",
   "execution_count": 105,
   "id": "f762127a",
   "metadata": {},
   "outputs": [
    {
     "name": "stdout",
     "output_type": "stream",
     "text": [
      "   Survived  Pclass     Sex   Age     Fare Embarked\n",
      "0         0       3    male  22.0   7.2500        S\n",
      "1         1       1  female  38.0  71.2833        C\n",
      "2         1       3  female  26.0   7.9250        S\n",
      "3         1       1  female  35.0  53.1000        S\n",
      "4         0       3    male  35.0   8.0500        S\n"
     ]
    }
   ],
   "source": [
    "# Drop rows with missing 'Embarked' values\n",
    "df = df.dropna(subset=['Embarked'])\n",
    "\n",
    "# Convert 'Sex' and 'Embarked' columns to categorical for filtering\n",
    "df['Sex'] = df['Sex'].astype('category')\n",
    "df['Embarked'] = df['Embarked'].astype('category')\n",
    "\n",
    "# Select relevant columns for visualization\n",
    "df = df[['Survived', 'Pclass', 'Sex', 'Age', 'Fare', 'Embarked']]\n",
    "\n",
    "# Preview the cleaned dataset\n",
    "print(df.head())"
   ]
  },
  {
   "cell_type": "markdown",
   "id": "f69eac80",
   "metadata": {},
   "source": [
    "**Step 5: Create the Layout for the Dashboard**"
   ]
  },
  {
   "cell_type": "code",
   "execution_count": 106,
   "id": "0bdfa10a",
   "metadata": {},
   "outputs": [],
   "source": [
    "# Create the layout for the dashboard\n",
    "app.layout = html.Div([\n",
    "    # Header\n",
    "    html.H1(\"Titanic Data Dashboard\", style={'textAlign': 'center'}),\n",
    "\n",
    "    # Description\n",
    "    html.Div(\"Use the controls below to explore Titanic data interactively.\", style={'textAlign': 'center'}),\n",
    "\n",
    "    # Dropdown for selecting a passenger class\n",
    "    html.Div([\n",
    "        html.Label(\"Select Passenger Class:\"),\n",
    "        dcc.Dropdown(\n",
    "            id='pclass-dropdown',\n",
    "            options=[\n",
    "                {'label': 'Class 1', 'value': 1},\n",
    "                {'label': 'Class 2', 'value': 2},\n",
    "                {'label': 'Class 3', 'value': 3}\n",
    "            ],\n",
    "            value=1  # Default value\n",
    "        ),\n",
    "    ], style={'width': '50%'}),\n",
    "\n",
    "    # Slider for selecting an age range\n",
    "    html.Div([\n",
    "        html.Label(\"Select Age Range:\"),\n",
    "        dcc.RangeSlider(\n",
    "            id='age-slider',\n",
    "            min=df['Age'].min(),\n",
    "            max=df['Age'].max(),\n",
    "            step=1,\n",
    "            marks={int(age): str(int(age)) for age in range(int(df['Age'].min()), int(df['Age'].max())+1, 10)},\n",
    "            value=[df['Age'].min(), df['Age'].max()]  # Default range\n",
    "        )\n",
    "    ], style={'width': '50%'}),\n",
    "\n",
    "    # Graphs\n",
    "    html.Div([\n",
    "        dcc.Graph(id='line-chart'),  # Line chart placeholder\n",
    "        dcc.Graph(id='scatter-plot')  # Scatter plot placeholder\n",
    "    ])\n",
    "])\n"
   ]
  },
  {
   "cell_type": "markdown",
   "id": "d006b236",
   "metadata": {},
   "source": [
    "**Step 6: Create the Callback Functions for Interactivity**"
   ]
  },
  {
   "cell_type": "code",
   "execution_count": 107,
   "id": "c9476448",
   "metadata": {},
   "outputs": [],
   "source": [
    "@app.callback(\n",
    "    [Output('line-chart', 'figure'),\n",
    "     Output('scatter-plot', 'figure')],\n",
    "    [Input('pclass-dropdown', 'value'),\n",
    "     Input('age-slider', 'value')]\n",
    ")\n",
    "def update_graphs(selected_pclass, age_range):\n",
    "    # Filter the dataset based on selected class and age range\n",
    "    filtered_df = df[\n",
    "        (df['Pclass'] == selected_pclass) & \n",
    "        (df['Age'] >= age_range[0]) & \n",
    "        (df['Age'] <= age_range[1])\n",
    "    ]\n",
    "\n",
    "    # Handle empty dataset\n",
    "    if filtered_df.empty:\n",
    "        no_data_figure = px.line(\n",
    "            title=\"No Data Available\",\n",
    "            labels={'Survived': 'Survival Rate', 'Age': 'Age Group'}\n",
    "        )\n",
    "        return no_data_figure, no_data_figure\n",
    "\n",
    "    # Ensure numeric data for Age and Fare\n",
    "    filtered_df['Age'] = pd.to_numeric(filtered_df['Age'], errors='coerce')\n",
    "    filtered_df['Fare'] = pd.to_numeric(filtered_df['Fare'], errors='coerce')\n",
    "\n",
    "    # --- Line Chart: Survival Rate by Age Group ---\n",
    "    age_groups = pd.cut(filtered_df['Age'], bins=range(0, 81, 10))  # Group by decades\n",
    "    survival_rate_by_age = (\n",
    "        filtered_df.groupby(age_groups)['Survived'].mean().reset_index()\n",
    "    )\n",
    "\n",
    "    # Convert intervals to strings for serialization\n",
    "    survival_rate_by_age['Age'] = survival_rate_by_age['Age'].astype(str)\n",
    "\n",
    "    line_chart = px.line(\n",
    "        survival_rate_by_age,\n",
    "        x='Age',\n",
    "        y='Survived',\n",
    "        title='Survival Rate by Age Group',\n",
    "        labels={'Survived': 'Survival Rate', 'Age': 'Age Group'}\n",
    "    )\n",
    "\n",
    "    # --- Scatter Plot: Age vs Fare ---\n",
    "    scatter_plot = px.scatter(\n",
    "        filtered_df,\n",
    "        x='Age',\n",
    "        y='Fare',\n",
    "        color='Survived',\n",
    "        title='Age vs. Fare',\n",
    "        labels={'Fare': 'Fare', 'Age': 'Age', 'Survived': 'Survival Status'},\n",
    "        hover_data=['Pclass', 'Sex', 'Embarked']\n",
    "    )\n",
    "\n",
    "    return line_chart, scatter_plot\n"
   ]
  },
  {
   "cell_type": "markdown",
   "id": "7d50809f",
   "metadata": {},
   "source": [
    "**Step 7: Run the App**"
   ]
  },
  {
   "cell_type": "code",
   "execution_count": 108,
   "id": "11166263",
   "metadata": {},
   "outputs": [
    {
     "data": {
      "text/html": [
       "\n",
       "        <iframe\n",
       "            width=\"100%\"\n",
       "            height=\"650\"\n",
       "            src=\"http://127.0.0.1:8060/\"\n",
       "            frameborder=\"0\"\n",
       "            allowfullscreen\n",
       "            \n",
       "        ></iframe>\n",
       "        "
      ],
      "text/plain": [
       "<IPython.lib.display.IFrame at 0x1b1e68bda90>"
      ]
     },
     "metadata": {},
     "output_type": "display_data"
    },
    {
     "name": "stderr",
     "output_type": "stream",
     "text": [
      "C:\\Users\\moussad\\AppData\\Local\\Temp\\ipykernel_15116\\564867561.py:24: SettingWithCopyWarning:\n",
      "\n",
      "\n",
      "A value is trying to be set on a copy of a slice from a DataFrame.\n",
      "Try using .loc[row_indexer,col_indexer] = value instead\n",
      "\n",
      "See the caveats in the documentation: https://pandas.pydata.org/pandas-docs/stable/user_guide/indexing.html#returning-a-view-versus-a-copy\n",
      "\n",
      "C:\\Users\\moussad\\AppData\\Local\\Temp\\ipykernel_15116\\564867561.py:25: SettingWithCopyWarning:\n",
      "\n",
      "\n",
      "A value is trying to be set on a copy of a slice from a DataFrame.\n",
      "Try using .loc[row_indexer,col_indexer] = value instead\n",
      "\n",
      "See the caveats in the documentation: https://pandas.pydata.org/pandas-docs/stable/user_guide/indexing.html#returning-a-view-versus-a-copy\n",
      "\n",
      "C:\\Users\\moussad\\AppData\\Local\\Temp\\ipykernel_15116\\564867561.py:24: SettingWithCopyWarning:\n",
      "\n",
      "\n",
      "A value is trying to be set on a copy of a slice from a DataFrame.\n",
      "Try using .loc[row_indexer,col_indexer] = value instead\n",
      "\n",
      "See the caveats in the documentation: https://pandas.pydata.org/pandas-docs/stable/user_guide/indexing.html#returning-a-view-versus-a-copy\n",
      "\n",
      "C:\\Users\\moussad\\AppData\\Local\\Temp\\ipykernel_15116\\564867561.py:25: SettingWithCopyWarning:\n",
      "\n",
      "\n",
      "A value is trying to be set on a copy of a slice from a DataFrame.\n",
      "Try using .loc[row_indexer,col_indexer] = value instead\n",
      "\n",
      "See the caveats in the documentation: https://pandas.pydata.org/pandas-docs/stable/user_guide/indexing.html#returning-a-view-versus-a-copy\n",
      "\n",
      "C:\\Users\\moussad\\AppData\\Local\\Temp\\ipykernel_15116\\564867561.py:24: SettingWithCopyWarning:\n",
      "\n",
      "\n",
      "A value is trying to be set on a copy of a slice from a DataFrame.\n",
      "Try using .loc[row_indexer,col_indexer] = value instead\n",
      "\n",
      "See the caveats in the documentation: https://pandas.pydata.org/pandas-docs/stable/user_guide/indexing.html#returning-a-view-versus-a-copy\n",
      "\n",
      "C:\\Users\\moussad\\AppData\\Local\\Temp\\ipykernel_15116\\564867561.py:25: SettingWithCopyWarning:\n",
      "\n",
      "\n",
      "A value is trying to be set on a copy of a slice from a DataFrame.\n",
      "Try using .loc[row_indexer,col_indexer] = value instead\n",
      "\n",
      "See the caveats in the documentation: https://pandas.pydata.org/pandas-docs/stable/user_guide/indexing.html#returning-a-view-versus-a-copy\n",
      "\n"
     ]
    }
   ],
   "source": [
    "if __name__ == '__main__':\n",
    "    app.run_server(debug=True, port=8060)\n"
   ]
  },
  {
   "cell_type": "code",
   "execution_count": null,
   "id": "8c94783d",
   "metadata": {},
   "outputs": [],
   "source": []
  }
 ],
 "metadata": {
  "kernelspec": {
   "display_name": "Python 3 (ipykernel)",
   "language": "python",
   "name": "python3"
  },
  "language_info": {
   "codemirror_mode": {
    "name": "ipython",
    "version": 3
   },
   "file_extension": ".py",
   "mimetype": "text/x-python",
   "name": "python",
   "nbconvert_exporter": "python",
   "pygments_lexer": "ipython3",
   "version": "3.9.12"
  }
 },
 "nbformat": 4,
 "nbformat_minor": 5
}
