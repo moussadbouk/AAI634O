{
 "cells": [
  {
   "cell_type": "markdown",
   "id": "267e707d",
   "metadata": {},
   "source": [
    "**Step 1: Import Libraries**"
   ]
  },
  {
   "cell_type": "code",
   "execution_count": 9,
   "id": "53892485",
   "metadata": {},
   "outputs": [],
   "source": [
    "import pandas as pd\n",
    "import dash\n",
    "from dash import dcc, html\n",
    "from dash.dependencies import Input, Output\n",
    "import plotly.express as px"
   ]
  },
  {
   "cell_type": "markdown",
   "id": "56ccdde2",
   "metadata": {},
   "source": [
    "**Step 2: Set Up the Dash Application**"
   ]
  },
  {
   "cell_type": "code",
   "execution_count": 10,
   "id": "ed0be6c3",
   "metadata": {},
   "outputs": [],
   "source": [
    "# Initialize the Dash app\n",
    "app = dash.Dash(__name__)"
   ]
  },
  {
   "cell_type": "markdown",
   "id": "b384c676",
   "metadata": {},
   "source": [
    "**Step 3: Load the data**"
   ]
  },
  {
   "cell_type": "code",
   "execution_count": 11,
   "id": "c59cecb2",
   "metadata": {},
   "outputs": [
    {
     "name": "stdout",
     "output_type": "stream",
     "text": [
      "         date product_id  sales_amount store_location\n",
      "0  2023-01-01       P005           678          Miami\n",
      "1  2023-01-01       P003           508    Los Angeles\n",
      "2  2023-01-01       P007           320          Miami\n",
      "3  2023-01-01       P010           985        Chicago\n",
      "4  2023-01-01       P003           655        Houston\n"
     ]
    }
   ],
   "source": [
    "sales_data = pd.read_csv('sales_data_500.csv')\n",
    "print(sales_data.head())"
   ]
  },
  {
   "cell_type": "markdown",
   "id": "ec3f85be",
   "metadata": {},
   "source": [
    "**Step 4: Create the Layout for the Dashboard**"
   ]
  },
  {
   "cell_type": "code",
   "execution_count": 13,
   "id": "021ddd8f",
   "metadata": {},
   "outputs": [],
   "source": [
    "# Create the layout for the Sales Dashboard\n",
    "app.layout = html.Div([\n",
    "    # Header\n",
    "    html.H1(\"Sales Dashboard\", style={'textAlign': 'center'}),\n",
    "\n",
    "    # Description\n",
    "    html.Div(\"Use the controls below to explore sales data interactively.\", style={'textAlign': 'center'}),\n",
    "\n",
    "    # Dropdown for selecting a store location\n",
    "    html.Div([\n",
    "        html.Label(\"Select Store Location:\"),\n",
    "        dcc.Dropdown(\n",
    "            id='store-location-dropdown',\n",
    "            options=[\n",
    "                {'label': location, 'value': location} \n",
    "                for location in sales_data['store_location'].unique()\n",
    "            ],\n",
    "            value=sales_data['store_location'].unique()[0],  # Default value\n",
    "        ),\n",
    "    ], style={'width': '50%'}),\n",
    "\n",
    "    # Slider for selecting a sales range\n",
    "    html.Div([\n",
    "        html.Label(\"Select Sales Range:\"),\n",
    "        dcc.RangeSlider(\n",
    "            id='sales-slider',\n",
    "            min=sales_data['sales_amount'].min(),\n",
    "            max=sales_data['sales_amount'].max(),\n",
    "            step=10,\n",
    "            marks={int(sale): str(int(sale)) for sale in range(\n",
    "                int(sales_data['sales_amount'].min()), \n",
    "                int(sales_data['sales_amount'].max()) + 100, \n",
    "                100\n",
    "            )},\n",
    "            value=[sales_data['sales_amount'].min(), sales_data['sales_amount'].max()]  # Default range\n",
    "        )\n",
    "    ], style={'width': '50%'}),\n",
    "\n",
    "    # Graphs\n",
    "    html.Div([\n",
    "        dcc.Graph(id='sales-bar-chart'),  # Bar chart placeholder\n",
    "        dcc.Graph(id='sales-line-chart')  # Line chart placeholder\n",
    "    ])\n",
    "])\n"
   ]
  },
  {
   "cell_type": "markdown",
   "id": "683d869c",
   "metadata": {},
   "source": [
    "**Step 5: Create the Callback Functions for Interactivity**"
   ]
  },
  {
   "cell_type": "code",
   "execution_count": 14,
   "id": "0d03c5d0",
   "metadata": {},
   "outputs": [],
   "source": [
    "@app.callback(\n",
    "    [Output('sales-bar-chart', 'figure'),\n",
    "     Output('sales-line-chart', 'figure')],\n",
    "    [Input('store-location-dropdown', 'value'),\n",
    "     Input('sales-slider', 'value')]\n",
    ")\n",
    "def update_graphs(selected_location, sales_range):\n",
    "    # Filter the dataset based on selected store location and sales range\n",
    "    filtered_df = sales_data[\n",
    "        (sales_data['store_location'] == selected_location) & \n",
    "        (sales_data['sales_amount'] >= sales_range[0]) & \n",
    "        (sales_data['sales_amount'] <= sales_range[1])\n",
    "    ]\n",
    "\n",
    "    # Handle empty dataset\n",
    "    if filtered_df.empty:\n",
    "        no_data_figure = px.bar(\n",
    "            title=\"No Data Available\",\n",
    "            labels={'sales_amount': 'Sales Amount', 'store_location': 'Store Location'}\n",
    "        )\n",
    "        return no_data_figure, no_data_figure\n",
    "\n",
    "    # --- Bar Chart: Total Sales by Product ---\n",
    "    sales_by_product = (\n",
    "        filtered_df.groupby('product_id')['sales_amount']\n",
    "        .sum()\n",
    "        .reset_index()\n",
    "    )\n",
    "    bar_chart = px.bar(\n",
    "        sales_by_product,\n",
    "        x='product_id',\n",
    "        y='sales_amount',\n",
    "        title=f\"Total Sales by Product in {selected_location}\",\n",
    "        labels={'product_id': 'Product ID', 'sales_amount': 'Sales Amount'}\n",
    "    )\n",
    "\n",
    "    # --- Line Chart: Sales Trends Over Time ---\n",
    "    sales_trends = (\n",
    "        filtered_df.groupby('date')['sales_amount']\n",
    "        .sum()\n",
    "        .reset_index()\n",
    "    )\n",
    "    line_chart = px.line(\n",
    "        sales_trends,\n",
    "        x='date',\n",
    "        y='sales_amount',\n",
    "        title=f\"Sales Trends Over Time in {selected_location}\",\n",
    "        labels={'date': 'Date', 'sales_amount': 'Sales Amount'}\n",
    "    )\n",
    "\n",
    "    return bar_chart, line_chart\n"
   ]
  },
  {
   "cell_type": "markdown",
   "id": "a713c682",
   "metadata": {},
   "source": [
    "**Step 7: Run the App**"
   ]
  },
  {
   "cell_type": "code",
   "execution_count": 16,
   "id": "6ab1cf93",
   "metadata": {},
   "outputs": [
    {
     "data": {
      "text/html": [
       "\n",
       "        <iframe\n",
       "            width=\"100%\"\n",
       "            height=\"650\"\n",
       "            src=\"http://127.0.0.1:8070/\"\n",
       "            frameborder=\"0\"\n",
       "            allowfullscreen\n",
       "            \n",
       "        ></iframe>\n",
       "        "
      ],
      "text/plain": [
       "<IPython.lib.display.IFrame at 0x27304add9a0>"
      ]
     },
     "metadata": {},
     "output_type": "display_data"
    }
   ],
   "source": [
    "if __name__ == '__main__':\n",
    "    app.run_server(debug=True, port=8070)\n"
   ]
  },
  {
   "cell_type": "code",
   "execution_count": null,
   "id": "7990b3bf",
   "metadata": {},
   "outputs": [],
   "source": []
  }
 ],
 "metadata": {
  "kernelspec": {
   "display_name": "Python 3 (ipykernel)",
   "language": "python",
   "name": "python3"
  },
  "language_info": {
   "codemirror_mode": {
    "name": "ipython",
    "version": 3
   },
   "file_extension": ".py",
   "mimetype": "text/x-python",
   "name": "python",
   "nbconvert_exporter": "python",
   "pygments_lexer": "ipython3",
   "version": "3.9.12"
  }
 },
 "nbformat": 4,
 "nbformat_minor": 5
}
